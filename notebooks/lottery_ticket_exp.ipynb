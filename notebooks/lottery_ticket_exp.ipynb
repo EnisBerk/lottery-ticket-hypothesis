{
  "nbformat": 4,
  "nbformat_minor": 0,
  "metadata": {
    "colab": {
      "name": "lottery_ticket_exp.ipynb",
      "version": "0.3.2",
      "provenance": []
    },
    "kernelspec": {
      "name": "python3",
      "display_name": "Python 3"
    },
    "accelerator": "GPU"
  },
  "cells": [
    {
      "cell_type": "code",
      "metadata": {
        "id": "ZBf_WkL0Wnyt",
        "colab_type": "code",
        "colab": {}
      },
      "source": [
        "import os \n",
        "import numpy as np\n",
        "\n"
      ],
      "execution_count": 0,
      "outputs": []
    },
    {
      "cell_type": "code",
      "metadata": {
        "id": "KGhTvP7_Yrrt",
        "colab_type": "code",
        "colab": {
          "base_uri": "https://localhost:8080/",
          "height": 85
        },
        "outputId": "6d1639a8-9f5d-48e3-dc33-196b2a9a5eac"
      },
      "source": [
        "\n",
        "%cd /content\n",
        "\n",
        "%rm -rf /content/ATG/lottery-ticket\n",
        "%rm -rf /content/lottery_ticket\n",
        "\n",
        "\n",
        "if not os.path.exists(\"/content/ATG/lottery-ticket\"):\n",
        "    !mkdir -p /content/ATG/lottery-ticket\n",
        "    %cd /content/ATG/lottery-ticket\n",
        "\n",
        "!python -m pip install --upgrade pip utils"
      ],
      "execution_count": 4,
      "outputs": [
        {
          "output_type": "stream",
          "text": [
            "/content\n",
            "/content/ATG/lottery-ticket\n",
            "Requirement already up-to-date: pip in /usr/local/lib/python3.6/dist-packages (19.2.1)\n",
            "Requirement already up-to-date: utils in /usr/local/lib/python3.6/dist-packages (0.9.0)\n"
          ],
          "name": "stdout"
        }
      ]
    },
    {
      "cell_type": "code",
      "metadata": {
        "id": "nlob61AvYt64",
        "colab_type": "code",
        "colab": {
          "base_uri": "https://localhost:8080/",
          "height": 819
        },
        "outputId": "d0aea95a-255a-4e60-e97c-70441624d659"
      },
      "source": [
        "if not os.path.exists(\"/content/ATG/lottery-ticket/setup.py\"):\n",
        "    !git init\n",
        "    !git pull https://github.com/EnisBerk/lottery-ticket-hypothesis.git\n",
        "\n",
        "!python -m pip install -e . --log logs.txt"
      ],
      "execution_count": 5,
      "outputs": [
        {
          "output_type": "stream",
          "text": [
            "Initialized empty Git repository in /content/ATG/lottery-ticket/.git/\n",
            "remote: Enumerating objects: 63, done.\u001b[K\n",
            "remote: Counting objects: 100% (63/63), done.\u001b[K\n",
            "remote: Compressing objects: 100% (42/42), done.\u001b[K\n",
            "remote: Total 107 (delta 34), reused 45 (delta 21), pack-reused 44\u001b[K\n",
            "Receiving objects: 100% (107/107), 52.27 KiB | 2.18 MiB/s, done.\n",
            "Resolving deltas: 100% (47/47), done.\n",
            "From https://github.com/EnisBerk/lottery-ticket-hypothesis\n",
            " * branch            HEAD       -> FETCH_HEAD\n",
            "Obtaining file:///content/ATG/lottery-ticket\n",
            "Requirement already satisfied: six in /usr/local/lib/python3.6/dist-packages (from lottery-ticket==1) (1.12.0)\n",
            "Collecting fire (from lottery-ticket==1)\n",
            "  Using cached https://files.pythonhosted.org/packages/d9/69/faeaae8687f4de0f5973694d02e9d6c3eb827636a009157352d98de1129e/fire-0.2.1.tar.gz\n",
            "Requirement already satisfied: tensorflow in /usr/local/lib/python3.6/dist-packages (from lottery-ticket==1) (1.14.0)\n",
            "Collecting tensorflow-gpu (from lottery-ticket==1)\n",
            "\u001b[?25l  Downloading https://files.pythonhosted.org/packages/76/04/43153bfdfcf6c9a4c38ecdb971ca9a75b9a791bb69a764d652c359aca504/tensorflow_gpu-1.14.0-cp36-cp36m-manylinux1_x86_64.whl (377.0MB)\n",
            "\u001b[K     |████████████████████████████████| 377.0MB 85kB/s \n",
            "\u001b[?25hRequirement already satisfied: keras in /usr/local/lib/python3.6/dist-packages (from lottery-ticket==1) (2.2.4)\n",
            "Requirement already satisfied: numpy in /usr/local/lib/python3.6/dist-packages (from lottery-ticket==1) (1.16.4)\n",
            "Requirement already satisfied: absl-py in /usr/local/lib/python3.6/dist-packages (from lottery-ticket==1) (0.7.1)\n",
            "Requirement already satisfied: termcolor in /usr/local/lib/python3.6/dist-packages (from fire->lottery-ticket==1) (1.1.0)\n",
            "Requirement already satisfied: wrapt>=1.11.1 in /usr/local/lib/python3.6/dist-packages (from tensorflow->lottery-ticket==1) (1.11.2)\n",
            "Requirement already satisfied: google-pasta>=0.1.6 in /usr/local/lib/python3.6/dist-packages (from tensorflow->lottery-ticket==1) (0.1.7)\n",
            "Requirement already satisfied: tensorflow-estimator<1.15.0rc0,>=1.14.0rc0 in /usr/local/lib/python3.6/dist-packages (from tensorflow->lottery-ticket==1) (1.14.0)\n",
            "Requirement already satisfied: keras-applications>=1.0.6 in /usr/local/lib/python3.6/dist-packages (from tensorflow->lottery-ticket==1) (1.0.8)\n",
            "Requirement already satisfied: grpcio>=1.8.6 in /usr/local/lib/python3.6/dist-packages (from tensorflow->lottery-ticket==1) (1.15.0)\n",
            "Requirement already satisfied: keras-preprocessing>=1.0.5 in /usr/local/lib/python3.6/dist-packages (from tensorflow->lottery-ticket==1) (1.1.0)\n",
            "Requirement already satisfied: wheel>=0.26 in /usr/local/lib/python3.6/dist-packages (from tensorflow->lottery-ticket==1) (0.33.4)\n",
            "Requirement already satisfied: astor>=0.6.0 in /usr/local/lib/python3.6/dist-packages (from tensorflow->lottery-ticket==1) (0.8.0)\n",
            "Requirement already satisfied: tensorboard<1.15.0,>=1.14.0 in /usr/local/lib/python3.6/dist-packages (from tensorflow->lottery-ticket==1) (1.14.0)\n",
            "Requirement already satisfied: gast>=0.2.0 in /usr/local/lib/python3.6/dist-packages (from tensorflow->lottery-ticket==1) (0.2.2)\n",
            "Requirement already satisfied: protobuf>=3.6.1 in /usr/local/lib/python3.6/dist-packages (from tensorflow->lottery-ticket==1) (3.7.1)\n",
            "Requirement already satisfied: h5py in /usr/local/lib/python3.6/dist-packages (from keras->lottery-ticket==1) (2.8.0)\n",
            "Requirement already satisfied: scipy>=0.14 in /usr/local/lib/python3.6/dist-packages (from keras->lottery-ticket==1) (1.3.0)\n",
            "Requirement already satisfied: pyyaml in /usr/local/lib/python3.6/dist-packages (from keras->lottery-ticket==1) (3.13)\n",
            "Requirement already satisfied: setuptools>=41.0.0 in /usr/local/lib/python3.6/dist-packages (from tensorboard<1.15.0,>=1.14.0->tensorflow->lottery-ticket==1) (41.0.1)\n",
            "Requirement already satisfied: werkzeug>=0.11.15 in /usr/local/lib/python3.6/dist-packages (from tensorboard<1.15.0,>=1.14.0->tensorflow->lottery-ticket==1) (0.15.5)\n",
            "Requirement already satisfied: markdown>=2.6.8 in /usr/local/lib/python3.6/dist-packages (from tensorboard<1.15.0,>=1.14.0->tensorflow->lottery-ticket==1) (3.1.1)\n",
            "Building wheels for collected packages: fire\n",
            "  Building wheel for fire (setup.py) ... \u001b[?25l\u001b[?25hdone\n",
            "  Created wheel for fire: filename=fire-0.2.1-py2.py3-none-any.whl size=103527 sha256=992652adfd7534df62527fefb5945b1e4ffe75b9bfc465c1ce32e699e1705449\n",
            "  Stored in directory: /root/.cache/pip/wheels/31/9c/c0/07b6dc7faf1844bb4688f46b569efe6cafaa2179c95db821da\n",
            "Successfully built fire\n",
            "Installing collected packages: fire, tensorflow-gpu, lottery-ticket\n",
            "  Running setup.py develop for lottery-ticket\n",
            "Successfully installed fire-0.2.1 lottery-ticket tensorflow-gpu-1.14.0\n"
          ],
          "name": "stdout"
        }
      ]
    },
    {
      "cell_type": "code",
      "metadata": {
        "id": "IhhNEVyVYm4C",
        "colab_type": "code",
        "colab": {
          "base_uri": "https://localhost:8080/",
          "height": 34
        },
        "outputId": "5c2f70de-40a2-4051-ee9b-eb9b5606e658"
      },
      "source": [
        "from lottery_ticket.mnist_fc import download_data\n",
        "from lottery_ticket.mnist_fc import lottery_experiment\n"
      ],
      "execution_count": 2,
      "outputs": [
        {
          "output_type": "stream",
          "text": [
            "Using TensorFlow backend.\n"
          ],
          "name": "stderr"
        }
      ]
    },
    {
      "cell_type": "code",
      "metadata": {
        "id": "Nm7fHlJAYo_X",
        "colab_type": "code",
        "colab": {}
      },
      "source": [
        "download_data.download(\"mnist\")"
      ],
      "execution_count": 0,
      "outputs": []
    },
    {
      "cell_type": "code",
      "metadata": {
        "id": "BYkjlFyn9ZD3",
        "colab_type": "code",
        "colab": {
          "base_uri": "https://localhost:8080/",
          "height": 411
        },
        "outputId": "887438e7-b954-4dd4-aeb9-24d38036b595"
      },
      "source": [
        "lottery_experiment.train(\"results\")"
      ],
      "execution_count": 0,
      "outputs": [
        {
          "output_type": "stream",
          "text": [
            "WARNING: Logging before flag parsing goes to stderr.\n",
            "W0802 22:30:22.582076 139940831131520 deprecation.py:323] From /content/ATG/lottery-ticket/lottery_ticket/foundations/dataset_base.py:39: DatasetV1.make_initializable_iterator (from tensorflow.python.data.ops.dataset_ops) is deprecated and will be removed in a future version.\n",
            "Instructions for updating:\n",
            "Use `for ... in dataset:` to iterate over a dataset. If using `tf.estimator`, return the `Dataset` object directly from your input function. As a last resort, you can use `tf.compat.v1.data.make_initializable_iterator(dataset)`.\n",
            "W0802 22:30:22.678584 139940831131520 deprecation.py:323] From /content/ATG/lottery-ticket/lottery_ticket/foundations/dataset_base.py:75: DatasetV1.output_types (from tensorflow.python.data.ops.dataset_ops) is deprecated and will be removed in a future version.\n",
            "Instructions for updating:\n",
            "Use `tf.compat.v1.data.get_output_types(dataset)`.\n",
            "W0802 22:30:22.679866 139940831131520 deprecation.py:323] From /content/ATG/lottery-ticket/lottery_ticket/foundations/dataset_base.py:76: DatasetV1.output_shapes (from tensorflow.python.data.ops.dataset_ops) is deprecated and will be removed in a future version.\n",
            "Instructions for updating:\n",
            "Use `tf.compat.v1.data.get_output_shapes(dataset)`.\n",
            "W0802 22:30:23.572153 139940831131520 lazy_loader.py:50] \n",
            "The TensorFlow contrib module will not be included in TensorFlow 2.0.\n",
            "For more information, please see:\n",
            "  * https://github.com/tensorflow/community/blob/master/rfcs/20180907-contrib-sunset.md\n",
            "  * https://github.com/tensorflow/addons\n",
            "  * https://github.com/tensorflow/io (for I/O related ops)\n",
            "If you depend on functionality not listed there, please file an issue.\n",
            "\n",
            "W0802 22:30:23.573423 139940831131520 deprecation_wrapper.py:119] From /content/ATG/lottery-ticket/lottery_ticket/foundations/model_base.py:97: The name tf.get_variable is deprecated. Please use tf.compat.v1.get_variable instead.\n",
            "\n",
            "W0802 22:30:23.703201 139940831131520 deprecation_wrapper.py:119] From /content/ATG/lottery-ticket/lottery_ticket/foundations/trainer.py:51: The name tf.global_variables_initializer is deprecated. Please use tf.compat.v1.global_variables_initializer instead.\n",
            "\n"
          ],
          "name": "stderr"
        }
      ]
    },
    {
      "cell_type": "code",
      "metadata": {
        "id": "M0TyiN-NY0E-",
        "colab_type": "code",
        "colab": {}
      },
      "source": [
        "%tensorboard --logdir \"/content/ATG/lottery-ticket/results\""
      ],
      "execution_count": 0,
      "outputs": []
    },
    {
      "cell_type": "code",
      "metadata": {
        "id": "NWKws1M6efxJ",
        "colab_type": "code",
        "colab": {}
      },
      "source": [
        "results_path = Path(\"/content/ATG/lottery-ticket/results\")\n",
        "\n",
        "runs=os.listdir(results_path)\n",
        "runs=sorted([int(run) for run in runs])"
      ],
      "execution_count": 0,
      "outputs": []
    },
    {
      "cell_type": "code",
      "metadata": {
        "id": "ecUzgIzAeij9",
        "colab_type": "code",
        "colab": {}
      },
      "source": [
        "def read_log(log_path):\n",
        "#     log_path=\"/content/ATG/lottery-ticket/results/0/same_init/test.log\"\n",
        "    with open(log_path) as fh:\n",
        "        for line in fh:\n",
        "            pass\n",
        "        last = line\n",
        "    _,iteration,_,loss,_,accuracy=last.strip().split(\",\")\n",
        "    return [float(x) for x in (iteration,loss,accuracy)]"
      ],
      "execution_count": 0,
      "outputs": []
    }
  ]
}